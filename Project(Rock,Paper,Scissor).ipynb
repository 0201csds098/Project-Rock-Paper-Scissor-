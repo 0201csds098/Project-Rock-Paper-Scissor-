{
  "nbformat": 4,
  "nbformat_minor": 0,
  "metadata": {
    "colab": {
      "provenance": [],
      "authorship_tag": "ABX9TyMDmMd/hbX8QJlQlQb1UeHC",
      "include_colab_link": true
    },
    "kernelspec": {
      "name": "python3",
      "display_name": "Python 3"
    },
    "language_info": {
      "name": "python"
    }
  },
  "cells": [
    {
      "cell_type": "markdown",
      "metadata": {
        "id": "view-in-github",
        "colab_type": "text"
      },
      "source": [
        "<a href=\"https://colab.research.google.com/github/0201csds098/Project-Rock-Paper-Scissor-/blob/main/Project(Rock%2CPaper%2CScissor).ipynb\" target=\"_parent\"><img src=\"https://colab.research.google.com/assets/colab-badge.svg\" alt=\"Open In Colab\"/></a>"
      ]
    },
    {
      "cell_type": "code",
      "execution_count": null,
      "metadata": {
        "id": "_Cid8ZQm_GX7"
      },
      "outputs": [],
      "source": [
        "import random\n",
        "\n",
        "\n"
      ]
    },
    {
      "cell_type": "code",
      "source": [
        "options= ['Rock','Paper','Scissor']\n",
        "r = random.choice(options)\n",
        "print(r)"
      ],
      "metadata": {
        "colab": {
          "base_uri": "https://localhost:8080/"
        },
        "id": "Quw-xlvAEyl8",
        "outputId": "f5e3e538-8564-42c0-c5e8-dfc0e2f1af74"
      },
      "execution_count": null,
      "outputs": [
        {
          "output_type": "stream",
          "name": "stdout",
          "text": [
            "Scissor\n"
          ]
        }
      ]
    },
    {
      "cell_type": "code",
      "source": [
        "user_ch = input('Enter your choice 1) Rock 2)Scissor 3)Paper : ')\n",
        "options = ['Rock','Paper','Scissor' ]\n",
        "comp_ch = random.choice(options)\n",
        "print('User choice',user_ch)\n",
        "print('Comp choice',comp_ch)\n",
        "\n",
        "print('-----------')\n",
        "\n",
        "if user_ch=='Rock':\n",
        "  if comp_ch=='Paper':\n",
        "    print('Paper covers Rock. You lose')\n",
        "  elif comp_ch=='Scissor':\n",
        "    print('Rock smashes Scissor.You win')\n",
        "  else:\n",
        "    print('Tie')\n",
        "elif user_ch == 'Scissor':\n",
        "  if comp_ch=='Paper':\n",
        "    print('Scissor cut papers.You win')\n",
        "  elif comp_ch=='Rock':\n",
        "    print('Rock smashes scissor. You lose')\n",
        "  else:\n",
        "    print('Tie')\n",
        "elif user_ch == 'Paper':\n",
        "  if comp_ch=='Rock':\n",
        "    print('Paper cover rock . You win')\n",
        "  elif comp_ch=='Scissor':\n",
        "    print('Scissor cut papers. You lose')\n",
        "  else:\n",
        "    print('Tie')\n",
        "else:\n",
        "  print('Invalid option choosen')\n"
      ],
      "metadata": {
        "colab": {
          "base_uri": "https://localhost:8080/"
        },
        "id": "Fa-QHDqdFKcG",
        "outputId": "0655bbae-d116-4cfc-c759-b8c4de951f1f"
      },
      "execution_count": null,
      "outputs": [
        {
          "output_type": "stream",
          "name": "stdout",
          "text": [
            "Enter your choice 1) Rock 2)Scissor 3)Paper : Rock\n",
            "User choice Rock\n",
            "Comp choice Scissor\n",
            "-----------\n",
            "Rock smashes Scissor.You win\n"
          ]
        }
      ]
    }
  ]
}